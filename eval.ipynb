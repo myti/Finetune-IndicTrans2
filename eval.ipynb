{
  "nbformat": 4,
  "nbformat_minor": 0,
  "metadata": {
    "colab": {
      "provenance": []
    },
    "kernelspec": {
      "name": "python3",
      "display_name": "Python 3"
    },
    "language_info": {
      "name": "python"
    }
  },
  "cells": [
    {
      "cell_type": "code",
      "execution_count": null,
      "metadata": {
        "id": "3qNuz8r7YmQa"
      },
      "outputs": [],
      "source": [
        "#!/bin/bash\n",
        "\n",
        "# This script evaluates the performance of a machine translation system\n",
        "# on a evaluation set in forward direction. For example, if the evaluation set\n",
        "# consists of language pairs, such as En-X, where En represents the English language\n",
        "# and X represents the target Indic language then this script accesses the translation\n",
        "# system from the English language (En) to the target Indic language (X) direction.\n",
        "\n",
        "%%shell\n",
        "echo `date`\n",
        "devtest_data_dir=$1         # path to the evaluation directory\n",
        "ckpt_dir=$2                 # path to the checkpoint directory\n",
        "system=${3:-\"it2\"}          # name of the machine translation system\n",
        "\n",
        "\n",
        "# get a list of language pairs in the `devtest_data_dir`\n",
        "pairs=$(ls -d $devtest_data_dir/* | sort)\n",
        "\n",
        "\n",
        "# iterate over each language pair\n",
        "for pair in ${pairs[@]}; do\n",
        "    # extract the source and target languages from the pair name\n",
        "    pair=$(basename $pair)\n",
        "    src_lang=$(echo \"$pair\" | cut -d \"-\" -f 1)\n",
        "    tgt_lang=$(echo \"$pair\" | cut -d \"-\" -f 2)\n",
        "\n",
        "    src_fname=$devtest_data_dir/$src_lang-$tgt_lang/test.$src_lang\n",
        "    tgt_fname=$devtest_data_dir/$src_lang-$tgt_lang/test.$tgt_lang\n",
        "\n",
        "    # check if the source and target files exists\n",
        "    if [ -f \"$src_fname\" ] && [ -f \"$tgt_fname\" ]; then\n",
        "        echo \"Evaluating $src_lang-$tgt_lang ...\"\n",
        "    else\n",
        "        echo \"Skipping $src_lang-$tgt_lang ...\"\n",
        "        continue\n",
        "    fi\n",
        "\n",
        "    # generate translations if the system name contains \"it2\"\n",
        "    if [[ $system == *\"it2\"* ]]; then\n",
        "        echo \"Generating Translations\"\n",
        "        bash joint_translate.sh $src_fname $tgt_fname.pred.$system $src_lang $tgt_lang $ckpt_dir\n",
        "    fi\n",
        "\n",
        "    # compute automatic string-based metrics if the prediction exists for the system\n",
        "    if [[ -f \"${tgt_fname}.pred.${system}\" ]]; then\n",
        "        echo \"Computing Metrics\"\n",
        "        bash compute_metrics.sh $tgt_fname.pred.$system $tgt_fname $tgt_lang > $devtest_data_dir/$src_lang-$tgt_lang/${src_lang}_${tgt_lang}_${system}_scores.txt\n",
        "    fi\n",
        "\n",
        "    # remove the intermediate files\n",
        "    rm -rf $tgt_fname.pred.$system.*\n",
        "    rm -rf $devtest_data_dir/$src_lang-$tgt_lang/*.tok\n",
        "\n",
        "done\n"
      ]
    }
  ]
}